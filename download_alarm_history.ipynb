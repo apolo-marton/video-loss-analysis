{
 "cells": [
  {
   "cell_type": "code",
   "execution_count": null,
   "metadata": {},
   "outputs": [],
   "source": [
    "import requests\n",
    "import datetime\n",
    "import pandas as pd\n",
    "import matplotlib.pylab as plt\n",
    "\n",
    "sign = '31ea8aa540a61e824f4d61ca0e23aa6602b599dd53309e27ce2b7d3936cc92f81c9e152dbbf325c3c961fc748c1b019c95b9900b59673a35ff54950760244e30769418079afe1458bab107d09897782e9e661166880043b4e1dce872af48110ad2fadb67fbb831375122a1b06214026958ed837b2f4e8b2a882f14aed03047b368e3ec2c2590c5eb13f57eea11714f9a'\n",
    "tenantID = '2'\n",
    "headers = {'content-type': 'application/json', 'Accept-Charset': 'UTF-8', '_tenantId': tenantID, '_sign' : sign, 'accept':'*/*'}\n",
    "pageSize = '50000'\n",
    "\n",
    "url_api = 'http://ft-api.prod.trimblevi.com:20551/openapi/v2/'\n",
    "url_fleets = url_api + 'fleets?'\n",
    "fleet_names = ['Shaw%20Regional%20-%201333','Shaw%20IPT%20-%201331', 'Shaw%20OTR%20-%202108']\n",
    "#fleet_names = ['Boise%20Cascade%20-%204241']\n",
    "#fleet_names = ['Quickway%20Dist%20-%201508']\n",
    "fleetIds=[]\n",
    "if(len(fleet_names)>0):\n",
    "    url_fleets = url_fleets + '&fleetName='\n",
    "    first = True\n",
    "    for fleet_name in fleet_names :\n",
    "        url_fleet = url_fleets + fleet_name\n",
    "        response = requests.get(url_fleet, headers=headers)\n",
    "\n",
    "        response_json = response.json()\n",
    "        fleetIds.append(response_json['data'][0]['fleetId'])\n",
    "\n",
    "start_date = datetime.datetime(year=2024, month=5, day=1)\n",
    "start_date_str = start_date.strftime(\"%Y-%m-%d\")\n",
    "\n",
    "end_date =  datetime.datetime(year=2024, month=5, day=7)\n",
    "end_date_str = end_date.strftime(\"%Y-%m-%d\")\n",
    "\n",
    "url_alarms = url_api + 'alarms?alarmTypes=0'\n",
    "\n",
    "if(len(fleetIds)>0):\n",
    "    url_alarms = url_alarms + '&includeSubFleet=true&fleetIds='\n",
    "    first = True\n",
    "    for fleet_id in fleetIds :\n",
    "        if(first):\n",
    "            url_alarms = url_alarms + fleet_id\n",
    "            first=False\n",
    "        else:\n",
    "            url_alarms = url_alarms + '%2C'+ fleet_id\n",
    "\n",
    "url_alarms = url_alarms + '&endTime='+end_date_str+'T23%3A59%3A59Z&startTime='+start_date_str+'T00%3A00%3A00Z' + '&pageSize=1000'\n",
    "\n",
    "page = 1\n",
    "full_list_df = pd.DataFrame()\n",
    "while ((page == 1) or (response.text.find('alarmAddInfo') > 0)):\n",
    "    url_final = url_alarms + '&page=' + str(page)\n",
    "    response = requests.get(url_final, headers=headers)\n",
    "    page_df = pd.json_normalize(response.json(), [\"data\"])\n",
    "    full_list_df = pd.concat([full_list_df, page_df], ignore_index=True, sort=False)\n",
    "    page += 1\n",
    "\n",
    "full_list_df['gps.speed'] = full_list_df['gps.speed'] * 0.621371\n",
    "full_list_df = full_list_df[['vehicleNumber', 'alarmAddInfo.channelInfo.channels', 'gps.speed', 'startTime', 'endTime']]\n",
    "full_list_df = full_list_df.rename(columns={'vehicleNumber': 'License plate number', 'alarmAddInfo.channelInfo.channels': 'Channel', 'gps.speed': 'Speed', 'startTime': 'Start time', 'endTime': 'End time'})\n",
    "display(full_list_df)"
   ]
  },
  {
   "cell_type": "code",
   "execution_count": null,
   "metadata": {},
   "outputs": [],
   "source": [
    "# Boxplot data\n",
    "def get_box_plot_data(labels, bp):\n",
    "    rows_list = []\n",
    "\n",
    "    for i in range(len(labels)):\n",
    "        dict1 = {}\n",
    "        dict1['label'] = labels[i]\n",
    "        dict1['lower_whisker'] = bp['whiskers'][i*2].get_ydata()[1]\n",
    "        dict1['lower_quartile'] = bp['boxes'][i].get_ydata()[1]\n",
    "        dict1['median'] = bp['medians'][i].get_ydata()[1]\n",
    "        dict1['upper_quartile'] = bp['boxes'][i].get_ydata()[2]\n",
    "        dict1['upper_whisker'] = bp['whiskers'][(i*2)+1].get_ydata()[1]\n",
    "        rows_list.append(dict1)\n",
    "\n",
    "    return pd.DataFrame(rows_list)\n",
    "\n",
    "camera_failure_freq = full_list_df.groupby([\"License plate number\"])[\"License plate number\"].value_counts()\n",
    "camera_failure_freq = camera_failure_freq.to_frame().reset_index()\n",
    "camera_failure_freq = camera_failure_freq.sort_values(by='count', ascending=False)\n",
    "plt.yscale('log')\n",
    "bp = plt.boxplot(camera_failure_freq['count'])\n",
    "bp_info = get_box_plot_data(['count'],bp)\n",
    "display(bp_info)"
   ]
  },
  {
   "cell_type": "code",
   "execution_count": null,
   "metadata": {},
   "outputs": [],
   "source": [
    "# Count alarms from outlier devices\n",
    "\n",
    "outlier_count_df = camera_failure_freq[camera_failure_freq['count']>bp_info['upper_whisker'][0]]\n",
    "outlier_count_df = outlier_count_df.sort_values(by='count', ascending=False)\n",
    "display(outlier_count_df)"
   ]
  },
  {
   "cell_type": "code",
   "execution_count": null,
   "metadata": {},
   "outputs": [],
   "source": [
    "# Create outliers and no outliers list\n",
    "\n",
    "outlier_list_df = full_list_df[full_list_df[\"License plate number\"].isin(outlier_count_df[\"License plate number\"])]\n",
    "no_outlier_list_df = full_list_df[~ full_list_df[\"License plate number\"].isin(outlier_count_df[\"License plate number\"])]"
   ]
  },
  {
   "cell_type": "code",
   "execution_count": null,
   "metadata": {},
   "outputs": [],
   "source": [
    "# Alarms number according to the speed by channel \n",
    "\n",
    "fig, axes = plt.subplots(nrows=3, ncols=1, figsize=(6, 8), dpi=100)\n",
    "fig.tight_layout(pad=3.5)\n",
    "\n",
    "selected_df = full_list_df\n",
    "\n",
    "channel_1_df = selected_df[selected_df['Channel'] == '1']\n",
    "channel_2_df = selected_df[selected_df['Channel'] == '2']\n",
    "channel_4_df = selected_df[selected_df['Channel'] == '4']\n",
    "channel_1_df.plot.hist(ax=axes[0], column=[\"Speed\"], ylabel='Alarms', xlabel='Speed (mph)',legend=False, rwidth=0.9)\n",
    "channel_2_df.plot.hist(ax=axes[1], column=[\"Speed\"], ylabel='Alarms', xlabel='Speed (mph)',legend=False, rwidth=0.9)\n",
    "channel_4_df.plot.hist(ax=axes[2], column=[\"Speed\"], ylabel='Alarms', xlabel='Speed (mph)',legend=False, rwidth=0.9)"
   ]
  },
  {
   "cell_type": "code",
   "execution_count": null,
   "metadata": {},
   "outputs": [],
   "source": [
    "# Select list to create the charts\n",
    "\n",
    "selected_df = outlier_list_df"
   ]
  },
  {
   "cell_type": "code",
   "execution_count": null,
   "metadata": {},
   "outputs": [],
   "source": [
    "# Count alarms by channel\n",
    "\n",
    "channels_df = selected_df.groupby([\"Channel\"])[\"Channel\"].value_counts()\n",
    "channels_df = channels_df.to_frame().reset_index()\n",
    "display(channels_df)"
   ]
  },
  {
   "cell_type": "code",
   "execution_count": null,
   "metadata": {},
   "outputs": [],
   "source": [
    "# Count alarms by channel per vehicle\n",
    "\n",
    "channelVehicles_df = selected_df[['Channel', 'License plate number']]\n",
    "channelVehicles_df = channelVehicles_df.drop_duplicates(subset=['License plate number'])\n",
    "channelVehicles_df = channelVehicles_df.groupby(['Channel']).agg('count').reset_index()\n",
    "display(channelVehicles_df)"
   ]
  },
  {
   "cell_type": "code",
   "execution_count": null,
   "metadata": {},
   "outputs": [],
   "source": [
    "# Measure alarms duration\n",
    "\n",
    "duration_df = selected_df[['License plate number', 'Speed', 'Start time', 'End time']].copy()\n",
    "duration_df[['Start time', 'End time']] = duration_df[['Start time', 'End time']].apply(pd.to_datetime)\n",
    "duration_df['Duration'] = duration_df['End time'] - duration_df['Start time']\n",
    "no_na_duration_df = duration_df.dropna()\n",
    "no_na_duration_df = no_na_duration_df.sort_values(by='Duration', ascending=True)\n",
    "display(no_na_duration_df)"
   ]
  },
  {
   "cell_type": "code",
   "execution_count": null,
   "metadata": {},
   "outputs": [],
   "source": [
    "fig, axes = plt.subplots(nrows=2, ncols=2, figsize=(8, 7), dpi=80)\n",
    "fig.tight_layout(pad=3.5)\n",
    "#plt.suptitle('Shaw Fleet (outliers removed)')\n",
    "selected_df.plot.hist(ax=axes[0,0], column=[\"Speed\"], ylabel='Alarms', xlabel='Speed (mph)',legend=False, rwidth=0.9)\n",
    "no_na_duration_df['Duration'].dt.seconds.plot.hist(ax=axes[0,1], rwidth=0.9, grid=False, xlabel='Duration (s)', ylabel='Alarms')\n",
    "channels_df.plot.bar(ax=axes[1,0],  x='Channel', y='count', ylabel='Alarms', rot=0, legend=False)\n",
    "channelVehicles_df.plot.bar(ax=axes[1,1], x='Channel', y='License plate number', ylabel='Vehicles', rot=0, legend=False)"
   ]
  },
  {
   "cell_type": "code",
   "execution_count": null,
   "metadata": {},
   "outputs": [],
   "source": [
    "# No endtime tretment\n",
    "\n",
    "values = []\n",
    "values.append(full_list_df['End time'].isna().sum())\n",
    "values.append(full_list_df.shape[0])\n",
    "\n",
    "fig, ax = plt.subplots()\n",
    "pie=ax.pie(values, labels=[\"End time unavailable\", \"End time available\"], autopct='%1.1f%%', pctdistance = 0.75, counterclock=False, startangle=-270, wedgeprops={'width':0.5, 'edgecolor':'white', 'linewidth': 2})\n",
    "fig.tight_layout()\n",
    "\n",
    "no_endtime_df = full_list_df.drop(full_list_df[~full_list_df['End time'].isna()].index)\n",
    "no_endtime_df = no_endtime_df.groupby([\"License plate number\"])[\"License plate number\"].value_counts()\n",
    "no_endtime_df = no_endtime_df.to_frame().reset_index()\n",
    "no_endtime_df = no_endtime_df.sort_values(by='count', ascending=False)\n",
    "display(no_endtime_df)"
   ]
  }
 ],
 "metadata": {
  "kernelspec": {
   "display_name": "Python 3",
   "language": "python",
   "name": "python3"
  },
  "language_info": {
   "codemirror_mode": {
    "name": "ipython",
    "version": 3
   },
   "file_extension": ".py",
   "mimetype": "text/x-python",
   "name": "python",
   "nbconvert_exporter": "python",
   "pygments_lexer": "ipython3",
   "version": "3.10.12"
  }
 },
 "nbformat": 4,
 "nbformat_minor": 2
}
